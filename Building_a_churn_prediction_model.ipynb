{
  "nbformat": 4,
  "nbformat_minor": 0,
  "metadata": {
    "colab": {
      "provenance": []
    },
    "kernelspec": {
      "name": "python3",
      "display_name": "Python 3"
    },
    "language_info": {
      "name": "python"
    }
  },
  "cells": [
    {
      "cell_type": "markdown",
      "source": [
        "Import necessary libraries"
      ],
      "metadata": {
        "id": "v6HXbJ4r2Tp8"
      }
    },
    {
      "cell_type": "code",
      "execution_count": 118,
      "metadata": {
        "id": "TdzPuAed2DHk"
      },
      "outputs": [],
      "source": [
        "import pandas as pd\n",
        "from sklearn.model_selection import train_test_split\n",
        "from sklearn.metrics import accuracy_score\n",
        "from sklearn.tree import DecisionTreeClassifier"
      ]
    },
    {
      "cell_type": "markdown",
      "source": [
        "Load data"
      ],
      "metadata": {
        "id": "rg77oTVs2ZIp"
      }
    },
    {
      "cell_type": "code",
      "source": [
        "calls = pd.read_excel(\"./Data/CallsData.xls\")\n",
        "contract = pd.read_csv(\"./Data/ContractData.csv\")"
      ],
      "metadata": {
        "id": "mK4IEaPK2Xs-"
      },
      "execution_count": 119,
      "outputs": []
    },
    {
      "cell_type": "markdown",
      "source": [
        "Join data in one dataset"
      ],
      "metadata": {
        "id": "tJJyQ7js26bA"
      }
    },
    {
      "cell_type": "code",
      "source": [
        "df = pd.merge(calls, contract, on=[\"Area Code\", \"Phone\"])\n",
        "df.info()"
      ],
      "metadata": {
        "colab": {
          "base_uri": "https://localhost:8080/"
        },
        "id": "Vv0MJwdU3EHL",
        "outputId": "dad81a09-6c22-4659-8617-a16eab0a5ebd"
      },
      "execution_count": 120,
      "outputs": [
        {
          "output_type": "stream",
          "name": "stdout",
          "text": [
            "<class 'pandas.core.frame.DataFrame'>\n",
            "RangeIndex: 3333 entries, 0 to 3332\n",
            "Data columns (total 21 columns):\n",
            " #   Column          Non-Null Count  Dtype  \n",
            "---  ------          --------------  -----  \n",
            " 0   VMail Message   3333 non-null   int64  \n",
            " 1   Day Mins        3333 non-null   float64\n",
            " 2   Eve Mins        3333 non-null   float64\n",
            " 3   Night Mins      3333 non-null   float64\n",
            " 4   Intl Mins       3333 non-null   float64\n",
            " 5   CustServ Calls  3333 non-null   int64  \n",
            " 6   Day Calls       3333 non-null   int64  \n",
            " 7   Day Charge      3333 non-null   float64\n",
            " 8   Eve Calls       3333 non-null   int64  \n",
            " 9   Eve Charge      3333 non-null   float64\n",
            " 10  Night Calls     3333 non-null   int64  \n",
            " 11  Night Charge    3333 non-null   float64\n",
            " 12  Intl Calls      3333 non-null   int64  \n",
            " 13  Intl Charge     3333 non-null   float64\n",
            " 14  Area Code       3333 non-null   int64  \n",
            " 15  Phone           3333 non-null   object \n",
            " 16  Account Length  3333 non-null   int64  \n",
            " 17  Churn           3333 non-null   int64  \n",
            " 18  Int'l Plan      3333 non-null   int64  \n",
            " 19  VMail Plan      3333 non-null   int64  \n",
            " 20  State           3333 non-null   object \n",
            "dtypes: float64(8), int64(11), object(2)\n",
            "memory usage: 546.9+ KB\n"
          ]
        }
      ]
    },
    {
      "cell_type": "markdown",
      "source": [
        "Convert Area Code to categorical"
      ],
      "metadata": {
        "id": "SU_P-0hw7UHb"
      }
    },
    {
      "cell_type": "code",
      "source": [
        "df['Area Code'] = df['Area Code'].astype(object)\n",
        "df.info()"
      ],
      "metadata": {
        "colab": {
          "base_uri": "https://localhost:8080/"
        },
        "id": "DNUGvnhE7aF0",
        "outputId": "06a20685-ce1a-42d0-abe3-ebb36c111a2e"
      },
      "execution_count": 121,
      "outputs": [
        {
          "output_type": "stream",
          "name": "stdout",
          "text": [
            "<class 'pandas.core.frame.DataFrame'>\n",
            "RangeIndex: 3333 entries, 0 to 3332\n",
            "Data columns (total 21 columns):\n",
            " #   Column          Non-Null Count  Dtype  \n",
            "---  ------          --------------  -----  \n",
            " 0   VMail Message   3333 non-null   int64  \n",
            " 1   Day Mins        3333 non-null   float64\n",
            " 2   Eve Mins        3333 non-null   float64\n",
            " 3   Night Mins      3333 non-null   float64\n",
            " 4   Intl Mins       3333 non-null   float64\n",
            " 5   CustServ Calls  3333 non-null   int64  \n",
            " 6   Day Calls       3333 non-null   int64  \n",
            " 7   Day Charge      3333 non-null   float64\n",
            " 8   Eve Calls       3333 non-null   int64  \n",
            " 9   Eve Charge      3333 non-null   float64\n",
            " 10  Night Calls     3333 non-null   int64  \n",
            " 11  Night Charge    3333 non-null   float64\n",
            " 12  Intl Calls      3333 non-null   int64  \n",
            " 13  Intl Charge     3333 non-null   float64\n",
            " 14  Area Code       3333 non-null   object \n",
            " 15  Phone           3333 non-null   object \n",
            " 16  Account Length  3333 non-null   int64  \n",
            " 17  Churn           3333 non-null   int64  \n",
            " 18  Int'l Plan      3333 non-null   int64  \n",
            " 19  VMail Plan      3333 non-null   int64  \n",
            " 20  State           3333 non-null   object \n",
            "dtypes: float64(8), int64(10), object(3)\n",
            "memory usage: 546.9+ KB\n"
          ]
        }
      ]
    },
    {
      "cell_type": "markdown",
      "source": [
        "Drop Phone variable"
      ],
      "metadata": {
        "id": "Xbto94_PCquX"
      }
    },
    {
      "cell_type": "code",
      "source": [
        "X.drop([\"Phone\"], axis = 1, inplace=True)"
      ],
      "metadata": {
        "id": "l_STHiR4BpCZ"
      },
      "execution_count": 123,
      "outputs": []
    },
    {
      "cell_type": "markdown",
      "source": [
        "Defining outcome"
      ],
      "metadata": {
        "id": "If9PGkn6797f"
      }
    },
    {
      "cell_type": "code",
      "source": [
        "Outcome = [\"Churn\"]\n",
        "X = df.drop(Outcome, axis = 1)\n",
        "y = df[Outcome]"
      ],
      "metadata": {
        "id": "jd-ecymr8AOt"
      },
      "execution_count": 122,
      "outputs": []
    },
    {
      "cell_type": "markdown",
      "source": [
        "OHE"
      ],
      "metadata": {
        "id": "ZLlXbljHDAN2"
      }
    },
    {
      "cell_type": "code",
      "source": [
        "OHE_X = pd.get_dummies(X, drop_first=True)"
      ],
      "metadata": {
        "id": "OhIW2mHrDB8t"
      },
      "execution_count": 124,
      "outputs": []
    },
    {
      "cell_type": "markdown",
      "source": [
        "Splitting dataset into training/test set 80%vs20%"
      ],
      "metadata": {
        "id": "QKh2ARM47uGR"
      }
    },
    {
      "cell_type": "code",
      "source": [
        "X_train, X_test, y_train, y_test = train_test_split(OHE_X, y, test_size=.2, random_state=0)"
      ],
      "metadata": {
        "id": "Ib_Qxv2p7yyx"
      },
      "execution_count": 126,
      "outputs": []
    },
    {
      "cell_type": "markdown",
      "source": [
        "Using DecisionTreeClassifier"
      ],
      "metadata": {
        "id": "eMvnj2gq9GM6"
      }
    },
    {
      "cell_type": "code",
      "source": [
        "clf = DecisionTreeClassifier(random_state=0)\n",
        "clf.fit(X_train, y_train)"
      ],
      "metadata": {
        "colab": {
          "base_uri": "https://localhost:8080/",
          "height": 74
        },
        "id": "8lb1NJBO8iDf",
        "outputId": "49f64863-fe85-4c1f-90f4-4a78a0b0df94"
      },
      "execution_count": 127,
      "outputs": [
        {
          "output_type": "execute_result",
          "data": {
            "text/plain": [
              "DecisionTreeClassifier(random_state=0)"
            ],
            "text/html": [
              "<style>#sk-container-id-4 {color: black;background-color: white;}#sk-container-id-4 pre{padding: 0;}#sk-container-id-4 div.sk-toggleable {background-color: white;}#sk-container-id-4 label.sk-toggleable__label {cursor: pointer;display: block;width: 100%;margin-bottom: 0;padding: 0.3em;box-sizing: border-box;text-align: center;}#sk-container-id-4 label.sk-toggleable__label-arrow:before {content: \"▸\";float: left;margin-right: 0.25em;color: #696969;}#sk-container-id-4 label.sk-toggleable__label-arrow:hover:before {color: black;}#sk-container-id-4 div.sk-estimator:hover label.sk-toggleable__label-arrow:before {color: black;}#sk-container-id-4 div.sk-toggleable__content {max-height: 0;max-width: 0;overflow: hidden;text-align: left;background-color: #f0f8ff;}#sk-container-id-4 div.sk-toggleable__content pre {margin: 0.2em;color: black;border-radius: 0.25em;background-color: #f0f8ff;}#sk-container-id-4 input.sk-toggleable__control:checked~div.sk-toggleable__content {max-height: 200px;max-width: 100%;overflow: auto;}#sk-container-id-4 input.sk-toggleable__control:checked~label.sk-toggleable__label-arrow:before {content: \"▾\";}#sk-container-id-4 div.sk-estimator input.sk-toggleable__control:checked~label.sk-toggleable__label {background-color: #d4ebff;}#sk-container-id-4 div.sk-label input.sk-toggleable__control:checked~label.sk-toggleable__label {background-color: #d4ebff;}#sk-container-id-4 input.sk-hidden--visually {border: 0;clip: rect(1px 1px 1px 1px);clip: rect(1px, 1px, 1px, 1px);height: 1px;margin: -1px;overflow: hidden;padding: 0;position: absolute;width: 1px;}#sk-container-id-4 div.sk-estimator {font-family: monospace;background-color: #f0f8ff;border: 1px dotted black;border-radius: 0.25em;box-sizing: border-box;margin-bottom: 0.5em;}#sk-container-id-4 div.sk-estimator:hover {background-color: #d4ebff;}#sk-container-id-4 div.sk-parallel-item::after {content: \"\";width: 100%;border-bottom: 1px solid gray;flex-grow: 1;}#sk-container-id-4 div.sk-label:hover label.sk-toggleable__label {background-color: #d4ebff;}#sk-container-id-4 div.sk-serial::before {content: \"\";position: absolute;border-left: 1px solid gray;box-sizing: border-box;top: 0;bottom: 0;left: 50%;z-index: 0;}#sk-container-id-4 div.sk-serial {display: flex;flex-direction: column;align-items: center;background-color: white;padding-right: 0.2em;padding-left: 0.2em;position: relative;}#sk-container-id-4 div.sk-item {position: relative;z-index: 1;}#sk-container-id-4 div.sk-parallel {display: flex;align-items: stretch;justify-content: center;background-color: white;position: relative;}#sk-container-id-4 div.sk-item::before, #sk-container-id-4 div.sk-parallel-item::before {content: \"\";position: absolute;border-left: 1px solid gray;box-sizing: border-box;top: 0;bottom: 0;left: 50%;z-index: -1;}#sk-container-id-4 div.sk-parallel-item {display: flex;flex-direction: column;z-index: 1;position: relative;background-color: white;}#sk-container-id-4 div.sk-parallel-item:first-child::after {align-self: flex-end;width: 50%;}#sk-container-id-4 div.sk-parallel-item:last-child::after {align-self: flex-start;width: 50%;}#sk-container-id-4 div.sk-parallel-item:only-child::after {width: 0;}#sk-container-id-4 div.sk-dashed-wrapped {border: 1px dashed gray;margin: 0 0.4em 0.5em 0.4em;box-sizing: border-box;padding-bottom: 0.4em;background-color: white;}#sk-container-id-4 div.sk-label label {font-family: monospace;font-weight: bold;display: inline-block;line-height: 1.2em;}#sk-container-id-4 div.sk-label-container {text-align: center;}#sk-container-id-4 div.sk-container {/* jupyter's `normalize.less` sets `[hidden] { display: none; }` but bootstrap.min.css set `[hidden] { display: none !important; }` so we also need the `!important` here to be able to override the default hidden behavior on the sphinx rendered scikit-learn.org. See: https://github.com/scikit-learn/scikit-learn/issues/21755 */display: inline-block !important;position: relative;}#sk-container-id-4 div.sk-text-repr-fallback {display: none;}</style><div id=\"sk-container-id-4\" class=\"sk-top-container\"><div class=\"sk-text-repr-fallback\"><pre>DecisionTreeClassifier(random_state=0)</pre><b>In a Jupyter environment, please rerun this cell to show the HTML representation or trust the notebook. <br />On GitHub, the HTML representation is unable to render, please try loading this page with nbviewer.org.</b></div><div class=\"sk-container\" hidden><div class=\"sk-item\"><div class=\"sk-estimator sk-toggleable\"><input class=\"sk-toggleable__control sk-hidden--visually\" id=\"sk-estimator-id-4\" type=\"checkbox\" checked><label for=\"sk-estimator-id-4\" class=\"sk-toggleable__label sk-toggleable__label-arrow\">DecisionTreeClassifier</label><div class=\"sk-toggleable__content\"><pre>DecisionTreeClassifier(random_state=0)</pre></div></div></div></div></div>"
            ]
          },
          "metadata": {},
          "execution_count": 127
        }
      ]
    },
    {
      "cell_type": "markdown",
      "source": [
        "Evaluating classifier"
      ],
      "metadata": {
        "id": "UPFhk_lBHzve"
      }
    },
    {
      "cell_type": "code",
      "source": [
        "y_pred = clf.predict(X_test)\n",
        "accuracy_score(y_test, y_pred)"
      ],
      "metadata": {
        "colab": {
          "base_uri": "https://localhost:8080/"
        },
        "id": "cPXenEa8H2VI",
        "outputId": "4349f1c5-e056-45c6-a4da-088b37c4b346"
      },
      "execution_count": 128,
      "outputs": [
        {
          "output_type": "execute_result",
          "data": {
            "text/plain": [
              "0.8995502248875562"
            ]
          },
          "metadata": {},
          "execution_count": 128
        }
      ]
    }
  ]
}